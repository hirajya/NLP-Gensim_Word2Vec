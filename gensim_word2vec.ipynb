{
  "nbformat": 4,
  "nbformat_minor": 0,
  "metadata": {
    "colab": {
      "provenance": [],
      "authorship_tag": "ABX9TyOD0ZSPqK5IX9gyD2TRPpcY",
      "include_colab_link": true
    },
    "kernelspec": {
      "name": "python3",
      "display_name": "Python 3"
    },
    "language_info": {
      "name": "python"
    }
  },
  "cells": [
    {
      "cell_type": "markdown",
      "metadata": {
        "id": "view-in-github",
        "colab_type": "text"
      },
      "source": [
        "<a href=\"https://colab.research.google.com/github/hirajya/NLP-Gensim_Word2Vec/blob/main/gensim_word2vec.ipynb\" target=\"_parent\"><img src=\"https://colab.research.google.com/assets/colab-badge.svg\" alt=\"Open In Colab\"/></a>"
      ]
    },
    {
      "cell_type": "markdown",
      "source": [
        "# Gensim module for word2vec NLP\n",
        "\n",
        "\n"
      ],
      "metadata": {
        "id": "rc6sbQtIV4RO"
      }
    },
    {
      "cell_type": "markdown",
      "source": [
        "### Dataset:\n",
        "Toys_and_Games_10 at http://snap.stanford.edu/data/amazon/productGraph/categoryFiles/"
      ],
      "metadata": {
        "id": "gDrj_mTHU55d"
      }
    },
    {
      "cell_type": "code",
      "execution_count": 1,
      "metadata": {
        "id": "JdzmqoIq1u5D"
      },
      "outputs": [],
      "source": [
        "import pandas as pd\n",
        "import gensim"
      ]
    },
    {
      "cell_type": "code",
      "source": [
        "from google.colab import drive\n",
        "drive.mount('/content/drive')"
      ],
      "metadata": {
        "colab": {
          "base_uri": "https://localhost:8080/"
        },
        "id": "q9YohaUcUvRd",
        "outputId": "53683efa-5b31-4913-ae37-1b05374d5ff4"
      },
      "execution_count": 2,
      "outputs": [
        {
          "output_type": "stream",
          "name": "stdout",
          "text": [
            "Mounted at /content/drive\n"
          ]
        }
      ]
    },
    {
      "cell_type": "code",
      "source": [
        "path = '/content/drive/MyDrive/datasets/Toys_and_Games_10.json'\n",
        "\n",
        "df = pd.read_json(path, lines=True)\n",
        "df.head()\n"
      ],
      "metadata": {
        "colab": {
          "base_uri": "https://localhost:8080/",
          "height": 484
        },
        "id": "E_8bFqcrW9dw",
        "outputId": "abfdb330-80b0-4cc9-d71b-b5d0f2f2eabd"
      },
      "execution_count": 3,
      "outputs": [
        {
          "output_type": "execute_result",
          "data": {
            "text/plain": [
              "       reviewerID        asin               reviewerName helpful  \\\n",
              "0  A1QR76SYGTXJN5  073533417X  Adam B. Shaeffer \"ashaef\"  [0, 0]   \n",
              "1  A1W415JP5WEAJK  073533417X                     Alex S  [0, 0]   \n",
              "2   AD0WUBKBO21KK  073533417X            Amazon Customer  [0, 0]   \n",
              "3  A1II2ZRPKZAQQD  073533417X   Amy Mcfarland \"Mom of 2\"  [0, 0]   \n",
              "4   AYWHCM0TJ4737  073533417X          Ana Braga-Henebry  [0, 0]   \n",
              "\n",
              "                                          reviewText  overall  \\\n",
              "0  I appreciate the materials used to create this...        4   \n",
              "1  I love the larger size pieces (these are about...        4   \n",
              "2  We've picked up Melissa and Doug, Ravensburger...        5   \n",
              "3  My daughter is an official puzzle connoisseur....        4   \n",
              "4  We are a puzzle-loving family! I believe there...        5   \n",
              "\n",
              "                             summary  unixReviewTime   reviewTime  \n",
              "0                     A good product      1357516800   01 7, 2013  \n",
              "1        Big pieces for little hands      1357171200   01 3, 2013  \n",
              "2  Good puzzle with a carrying case!      1355875200  12 19, 2012  \n",
              "3       Nice puzzle with a great box      1354233600  11 30, 2012  \n",
              "4       Oh what fun for little kids!      1352851200  11 14, 2012  "
            ],
            "text/html": [
              "\n",
              "  <div id=\"df-ed2ee3e2-da70-4145-83ad-45f2ee36897d\" class=\"colab-df-container\">\n",
              "    <div>\n",
              "<style scoped>\n",
              "    .dataframe tbody tr th:only-of-type {\n",
              "        vertical-align: middle;\n",
              "    }\n",
              "\n",
              "    .dataframe tbody tr th {\n",
              "        vertical-align: top;\n",
              "    }\n",
              "\n",
              "    .dataframe thead th {\n",
              "        text-align: right;\n",
              "    }\n",
              "</style>\n",
              "<table border=\"1\" class=\"dataframe\">\n",
              "  <thead>\n",
              "    <tr style=\"text-align: right;\">\n",
              "      <th></th>\n",
              "      <th>reviewerID</th>\n",
              "      <th>asin</th>\n",
              "      <th>reviewerName</th>\n",
              "      <th>helpful</th>\n",
              "      <th>reviewText</th>\n",
              "      <th>overall</th>\n",
              "      <th>summary</th>\n",
              "      <th>unixReviewTime</th>\n",
              "      <th>reviewTime</th>\n",
              "    </tr>\n",
              "  </thead>\n",
              "  <tbody>\n",
              "    <tr>\n",
              "      <th>0</th>\n",
              "      <td>A1QR76SYGTXJN5</td>\n",
              "      <td>073533417X</td>\n",
              "      <td>Adam B. Shaeffer \"ashaef\"</td>\n",
              "      <td>[0, 0]</td>\n",
              "      <td>I appreciate the materials used to create this...</td>\n",
              "      <td>4</td>\n",
              "      <td>A good product</td>\n",
              "      <td>1357516800</td>\n",
              "      <td>01 7, 2013</td>\n",
              "    </tr>\n",
              "    <tr>\n",
              "      <th>1</th>\n",
              "      <td>A1W415JP5WEAJK</td>\n",
              "      <td>073533417X</td>\n",
              "      <td>Alex S</td>\n",
              "      <td>[0, 0]</td>\n",
              "      <td>I love the larger size pieces (these are about...</td>\n",
              "      <td>4</td>\n",
              "      <td>Big pieces for little hands</td>\n",
              "      <td>1357171200</td>\n",
              "      <td>01 3, 2013</td>\n",
              "    </tr>\n",
              "    <tr>\n",
              "      <th>2</th>\n",
              "      <td>AD0WUBKBO21KK</td>\n",
              "      <td>073533417X</td>\n",
              "      <td>Amazon Customer</td>\n",
              "      <td>[0, 0]</td>\n",
              "      <td>We've picked up Melissa and Doug, Ravensburger...</td>\n",
              "      <td>5</td>\n",
              "      <td>Good puzzle with a carrying case!</td>\n",
              "      <td>1355875200</td>\n",
              "      <td>12 19, 2012</td>\n",
              "    </tr>\n",
              "    <tr>\n",
              "      <th>3</th>\n",
              "      <td>A1II2ZRPKZAQQD</td>\n",
              "      <td>073533417X</td>\n",
              "      <td>Amy Mcfarland \"Mom of 2\"</td>\n",
              "      <td>[0, 0]</td>\n",
              "      <td>My daughter is an official puzzle connoisseur....</td>\n",
              "      <td>4</td>\n",
              "      <td>Nice puzzle with a great box</td>\n",
              "      <td>1354233600</td>\n",
              "      <td>11 30, 2012</td>\n",
              "    </tr>\n",
              "    <tr>\n",
              "      <th>4</th>\n",
              "      <td>AYWHCM0TJ4737</td>\n",
              "      <td>073533417X</td>\n",
              "      <td>Ana Braga-Henebry</td>\n",
              "      <td>[0, 0]</td>\n",
              "      <td>We are a puzzle-loving family! I believe there...</td>\n",
              "      <td>5</td>\n",
              "      <td>Oh what fun for little kids!</td>\n",
              "      <td>1352851200</td>\n",
              "      <td>11 14, 2012</td>\n",
              "    </tr>\n",
              "  </tbody>\n",
              "</table>\n",
              "</div>\n",
              "    <div class=\"colab-df-buttons\">\n",
              "\n",
              "  <div class=\"colab-df-container\">\n",
              "    <button class=\"colab-df-convert\" onclick=\"convertToInteractive('df-ed2ee3e2-da70-4145-83ad-45f2ee36897d')\"\n",
              "            title=\"Convert this dataframe to an interactive table.\"\n",
              "            style=\"display:none;\">\n",
              "\n",
              "  <svg xmlns=\"http://www.w3.org/2000/svg\" height=\"24px\" viewBox=\"0 -960 960 960\">\n",
              "    <path d=\"M120-120v-720h720v720H120Zm60-500h600v-160H180v160Zm220 220h160v-160H400v160Zm0 220h160v-160H400v160ZM180-400h160v-160H180v160Zm440 0h160v-160H620v160ZM180-180h160v-160H180v160Zm440 0h160v-160H620v160Z\"/>\n",
              "  </svg>\n",
              "    </button>\n",
              "\n",
              "  <style>\n",
              "    .colab-df-container {\n",
              "      display:flex;\n",
              "      gap: 12px;\n",
              "    }\n",
              "\n",
              "    .colab-df-convert {\n",
              "      background-color: #E8F0FE;\n",
              "      border: none;\n",
              "      border-radius: 50%;\n",
              "      cursor: pointer;\n",
              "      display: none;\n",
              "      fill: #1967D2;\n",
              "      height: 32px;\n",
              "      padding: 0 0 0 0;\n",
              "      width: 32px;\n",
              "    }\n",
              "\n",
              "    .colab-df-convert:hover {\n",
              "      background-color: #E2EBFA;\n",
              "      box-shadow: 0px 1px 2px rgba(60, 64, 67, 0.3), 0px 1px 3px 1px rgba(60, 64, 67, 0.15);\n",
              "      fill: #174EA6;\n",
              "    }\n",
              "\n",
              "    .colab-df-buttons div {\n",
              "      margin-bottom: 4px;\n",
              "    }\n",
              "\n",
              "    [theme=dark] .colab-df-convert {\n",
              "      background-color: #3B4455;\n",
              "      fill: #D2E3FC;\n",
              "    }\n",
              "\n",
              "    [theme=dark] .colab-df-convert:hover {\n",
              "      background-color: #434B5C;\n",
              "      box-shadow: 0px 1px 3px 1px rgba(0, 0, 0, 0.15);\n",
              "      filter: drop-shadow(0px 1px 2px rgba(0, 0, 0, 0.3));\n",
              "      fill: #FFFFFF;\n",
              "    }\n",
              "  </style>\n",
              "\n",
              "    <script>\n",
              "      const buttonEl =\n",
              "        document.querySelector('#df-ed2ee3e2-da70-4145-83ad-45f2ee36897d button.colab-df-convert');\n",
              "      buttonEl.style.display =\n",
              "        google.colab.kernel.accessAllowed ? 'block' : 'none';\n",
              "\n",
              "      async function convertToInteractive(key) {\n",
              "        const element = document.querySelector('#df-ed2ee3e2-da70-4145-83ad-45f2ee36897d');\n",
              "        const dataTable =\n",
              "          await google.colab.kernel.invokeFunction('convertToInteractive',\n",
              "                                                    [key], {});\n",
              "        if (!dataTable) return;\n",
              "\n",
              "        const docLinkHtml = 'Like what you see? Visit the ' +\n",
              "          '<a target=\"_blank\" href=https://colab.research.google.com/notebooks/data_table.ipynb>data table notebook</a>'\n",
              "          + ' to learn more about interactive tables.';\n",
              "        element.innerHTML = '';\n",
              "        dataTable['output_type'] = 'display_data';\n",
              "        await google.colab.output.renderOutput(dataTable, element);\n",
              "        const docLink = document.createElement('div');\n",
              "        docLink.innerHTML = docLinkHtml;\n",
              "        element.appendChild(docLink);\n",
              "      }\n",
              "    </script>\n",
              "  </div>\n",
              "\n",
              "\n",
              "<div id=\"df-33e63fb6-f01e-455d-b565-0012d55ee4d9\">\n",
              "  <button class=\"colab-df-quickchart\" onclick=\"quickchart('df-33e63fb6-f01e-455d-b565-0012d55ee4d9')\"\n",
              "            title=\"Suggest charts.\"\n",
              "            style=\"display:none;\">\n",
              "\n",
              "<svg xmlns=\"http://www.w3.org/2000/svg\" height=\"24px\"viewBox=\"0 0 24 24\"\n",
              "     width=\"24px\">\n",
              "    <g>\n",
              "        <path d=\"M19 3H5c-1.1 0-2 .9-2 2v14c0 1.1.9 2 2 2h14c1.1 0 2-.9 2-2V5c0-1.1-.9-2-2-2zM9 17H7v-7h2v7zm4 0h-2V7h2v10zm4 0h-2v-4h2v4z\"/>\n",
              "    </g>\n",
              "</svg>\n",
              "  </button>\n",
              "\n",
              "<style>\n",
              "  .colab-df-quickchart {\n",
              "    background-color: #E8F0FE;\n",
              "    border: none;\n",
              "    border-radius: 50%;\n",
              "    cursor: pointer;\n",
              "    display: none;\n",
              "    fill: #1967D2;\n",
              "    height: 32px;\n",
              "    padding: 0 0 0 0;\n",
              "    width: 32px;\n",
              "  }\n",
              "\n",
              "  .colab-df-quickchart:hover {\n",
              "    background-color: #E2EBFA;\n",
              "    box-shadow: 0px 1px 2px rgba(60, 64, 67, 0.3), 0px 1px 3px 1px rgba(60, 64, 67, 0.15);\n",
              "    fill: #174EA6;\n",
              "  }\n",
              "\n",
              "  [theme=dark] .colab-df-quickchart {\n",
              "    background-color: #3B4455;\n",
              "    fill: #D2E3FC;\n",
              "  }\n",
              "\n",
              "  [theme=dark] .colab-df-quickchart:hover {\n",
              "    background-color: #434B5C;\n",
              "    box-shadow: 0px 1px 3px 1px rgba(0, 0, 0, 0.15);\n",
              "    filter: drop-shadow(0px 1px 2px rgba(0, 0, 0, 0.3));\n",
              "    fill: #FFFFFF;\n",
              "  }\n",
              "</style>\n",
              "\n",
              "  <script>\n",
              "    async function quickchart(key) {\n",
              "      const charts = await google.colab.kernel.invokeFunction(\n",
              "          'suggestCharts', [key], {});\n",
              "    }\n",
              "    (() => {\n",
              "      let quickchartButtonEl =\n",
              "        document.querySelector('#df-33e63fb6-f01e-455d-b565-0012d55ee4d9 button');\n",
              "      quickchartButtonEl.style.display =\n",
              "        google.colab.kernel.accessAllowed ? 'block' : 'none';\n",
              "    })();\n",
              "  </script>\n",
              "</div>\n",
              "    </div>\n",
              "  </div>\n"
            ]
          },
          "metadata": {},
          "execution_count": 3
        }
      ]
    },
    {
      "cell_type": "code",
      "source": [
        "df.shape"
      ],
      "metadata": {
        "colab": {
          "base_uri": "https://localhost:8080/"
        },
        "id": "i-wynNRaYTQE",
        "outputId": "e4e9fc2f-2b86-4bd9-f4b2-6d6d41d40b6c"
      },
      "execution_count": 4,
      "outputs": [
        {
          "output_type": "execute_result",
          "data": {
            "text/plain": [
              "(18637, 9)"
            ]
          },
          "metadata": {},
          "execution_count": 4
        }
      ]
    },
    {
      "cell_type": "markdown",
      "source": [
        "## Preprocessing & Tokenization"
      ],
      "metadata": {
        "id": "FjtkAfS7YYyl"
      }
    },
    {
      "cell_type": "code",
      "source": [
        "review_text = df.reviewText.apply(gensim.utils.simple_preprocess)"
      ],
      "metadata": {
        "id": "4rCMSojgYXMF"
      },
      "execution_count": 6,
      "outputs": []
    },
    {
      "cell_type": "code",
      "source": [
        "review_text"
      ],
      "metadata": {
        "colab": {
          "base_uri": "https://localhost:8080/"
        },
        "id": "1lH34uoZYquZ",
        "outputId": "03ad6a75-afbe-431c-ccad-fa348552b3d6"
      },
      "execution_count": 7,
      "outputs": [
        {
          "output_type": "execute_result",
          "data": {
            "text/plain": [
              "0        [appreciate, the, materials, used, to, create,...\n",
              "1        [love, the, larger, size, pieces, these, are, ...\n",
              "2        [we, ve, picked, up, melissa, and, doug, raven...\n",
              "3        [my, daughter, is, an, official, puzzle, conno...\n",
              "4        [we, are, puzzle, loving, family, believe, the...\n",
              "                               ...                        \n",
              "18632    [my, four, year, old, niece, and, really, enjo...\n",
              "18633    [my, two, year, old, niece, loves, this, plays...\n",
              "18634    [got, this, for, my, year, old, who, loves, mi...\n",
              "18635    [the, minnie, pony, stable, appealed, to, my, ...\n",
              "18636    [fisher, price, version, of, my, little, ponie...\n",
              "Name: reviewText, Length: 18637, dtype: object"
            ]
          },
          "metadata": {},
          "execution_count": 7
        }
      ]
    },
    {
      "cell_type": "code",
      "source": [
        "review_text[0]"
      ],
      "metadata": {
        "colab": {
          "base_uri": "https://localhost:8080/"
        },
        "id": "FDg4O8vBYtNd",
        "outputId": "22cff607-1077-479c-f7d7-968d50e3c821"
      },
      "execution_count": 8,
      "outputs": [
        {
          "output_type": "execute_result",
          "data": {
            "text/plain": [
              "['appreciate',\n",
              " 'the',\n",
              " 'materials',\n",
              " 'used',\n",
              " 'to',\n",
              " 'create',\n",
              " 'this',\n",
              " 'puzzle',\n",
              " 'and',\n",
              " 'our',\n",
              " 'three',\n",
              " 'year',\n",
              " 'old',\n",
              " 'loves',\n",
              " 'the',\n",
              " 'picture',\n",
              " 'that',\n",
              " 'is',\n",
              " 'formed',\n",
              " 'when',\n",
              " 'the',\n",
              " 'puzzle',\n",
              " 'is',\n",
              " 'complete',\n",
              " 'soy',\n",
              " 'inks',\n",
              " 'recycled',\n",
              " 'cardboard',\n",
              " 'wonderful',\n",
              " 'have',\n",
              " 'only',\n",
              " 'one',\n",
              " 'criticism',\n",
              " 'and',\n",
              " 'it',\n",
              " 'minor',\n",
              " 'one',\n",
              " 'since',\n",
              " 'the',\n",
              " 'puzzle',\n",
              " 'is',\n",
              " 'intended',\n",
              " 'for',\n",
              " 'younger',\n",
              " 'audience',\n",
              " 'it',\n",
              " 'might',\n",
              " 'be',\n",
              " 'nice',\n",
              " 'if',\n",
              " 'the',\n",
              " 'pieces',\n",
              " 'were',\n",
              " 'bit',\n",
              " 'thicker',\n",
              " 'our',\n",
              " 'son',\n",
              " 'has',\n",
              " 'good',\n",
              " 'fine',\n",
              " 'motor',\n",
              " 'skills',\n",
              " 'but',\n",
              " 'the',\n",
              " 'pieces',\n",
              " 'can',\n",
              " 'still',\n",
              " 'bend',\n",
              " 'and',\n",
              " 'crease',\n",
              " 'as',\n",
              " 'he',\n",
              " 'works',\n",
              " 'to',\n",
              " 'fit',\n",
              " 'them',\n",
              " 'together',\n",
              " 'with',\n",
              " 'that',\n",
              " 'said',\n",
              " 'however',\n",
              " 'the',\n",
              " 'creasing',\n",
              " 'may',\n",
              " 'be',\n",
              " 'due',\n",
              " 'more',\n",
              " 'to',\n",
              " 'his',\n",
              " 'impatience',\n",
              " 'when',\n",
              " 'the',\n",
              " 'pieces',\n",
              " 'don',\n",
              " 'seem',\n",
              " 'to',\n",
              " 'fit',\n",
              " 'right',\n",
              " 'than',\n",
              " 'with',\n",
              " 'the',\n",
              " 'build',\n",
              " 'quality',\n",
              " 'of',\n",
              " 'the',\n",
              " 'puzzle']"
            ]
          },
          "metadata": {},
          "execution_count": 8
        }
      ]
    },
    {
      "cell_type": "code",
      "source": [
        "df.reviewText[0]"
      ],
      "metadata": {
        "colab": {
          "base_uri": "https://localhost:8080/",
          "height": 110
        },
        "id": "Ecryims_Yw1f",
        "outputId": "e51d56f7-7412-4f35-bb78-415b8db8abd1"
      },
      "execution_count": 9,
      "outputs": [
        {
          "output_type": "execute_result",
          "data": {
            "text/plain": [
              "\"I appreciate the materials used to create this puzzle and our three year-old loves the picture that is formed when the puzzle is complete. Soy inks + recycled cardboard = Wonderful.I have only one criticism, and it's a minor one. Since the puzzle is intended for a younger audience, it might be nice if the pieces were a bit thicker. Our son has good fine motor skills, but the pieces can still bend and crease as he works to fit them together. With that said however, the creasing may be due more to his impatience when the pieces don't seem to fit right than with the build quality of the puzzle.\""
            ],
            "application/vnd.google.colaboratory.intrinsic+json": {
              "type": "string"
            }
          },
          "metadata": {},
          "execution_count": 9
        }
      ]
    },
    {
      "cell_type": "markdown",
      "source": [
        "## Training the Word2Vec Model"
      ],
      "metadata": {
        "id": "pohlthtgY5-2"
      }
    },
    {
      "cell_type": "code",
      "source": [
        "model = gensim.models.Word2Vec(\n",
        "    window=10,\n",
        "    min_count=2,\n",
        "    workers=4\n",
        ")"
      ],
      "metadata": {
        "id": "WkdEd0uVY0RV"
      },
      "execution_count": 10,
      "outputs": []
    },
    {
      "cell_type": "markdown",
      "source": [
        "Build Vocabulary"
      ],
      "metadata": {
        "id": "eA3r1CZwZEZl"
      }
    },
    {
      "cell_type": "code",
      "source": [
        "model.build_vocab(review_text, progress_per=1000)"
      ],
      "metadata": {
        "id": "mMxsp5vkZDRq"
      },
      "execution_count": 11,
      "outputs": []
    },
    {
      "cell_type": "code",
      "source": [
        "model.train(review_text, total_examples=model.corpus_count, epochs=model.epochs)"
      ],
      "metadata": {
        "colab": {
          "base_uri": "https://localhost:8080/"
        },
        "id": "RKhAhQpOa-Pp",
        "outputId": "9ce3f104-49e5-41d8-a3ea-f7001f1ad8e2"
      },
      "execution_count": 12,
      "outputs": [
        {
          "output_type": "execute_result",
          "data": {
            "text/plain": [
              "(11824356, 15864375)"
            ]
          },
          "metadata": {},
          "execution_count": 12
        }
      ]
    },
    {
      "cell_type": "markdown",
      "source": [
        "## Saving Model"
      ],
      "metadata": {
        "id": "Im6oKrz9cZ1m"
      }
    },
    {
      "cell_type": "code",
      "source": [
        "model.save(\"./model_toys_reviews.model\")"
      ],
      "metadata": {
        "id": "k2GvU0z4bFgB"
      },
      "execution_count": 13,
      "outputs": []
    },
    {
      "cell_type": "markdown",
      "source": [
        "## Similarity between words"
      ],
      "metadata": {
        "id": "Bd_VezxbcpJV"
      }
    },
    {
      "cell_type": "code",
      "source": [
        "model.wv.most_similar(\"fragile\")"
      ],
      "metadata": {
        "colab": {
          "base_uri": "https://localhost:8080/"
        },
        "id": "lxGGfQBfcmUd",
        "outputId": "b45e64eb-5afd-4d2c-b57d-c1ef922aa168"
      },
      "execution_count": 15,
      "outputs": [
        {
          "output_type": "execute_result",
          "data": {
            "text/plain": [
              "[('flimsy', 0.7573012709617615),\n",
              " ('cushy', 0.7335811257362366),\n",
              " ('flexible', 0.7296791672706604),\n",
              " ('heavy', 0.710507869720459),\n",
              " ('lightweight', 0.7088773846626282),\n",
              " ('comfortable', 0.6911585927009583),\n",
              " ('rigid', 0.6842504739761353),\n",
              " ('thin', 0.680016279220581),\n",
              " ('forgiving', 0.6748815178871155),\n",
              " ('tough', 0.6591293215751648)]"
            ]
          },
          "metadata": {},
          "execution_count": 15
        }
      ]
    },
    {
      "cell_type": "code",
      "source": [
        "model.wv.similarity(w1=\"cheap\", w2=\"inexpensive\")"
      ],
      "metadata": {
        "colab": {
          "base_uri": "https://localhost:8080/"
        },
        "id": "5wmUDERadHvM",
        "outputId": "c2aa98ba-c3f1-4559-b46f-ab67e9696728"
      },
      "execution_count": 18,
      "outputs": [
        {
          "output_type": "execute_result",
          "data": {
            "text/plain": [
              "0.45578113"
            ]
          },
          "metadata": {},
          "execution_count": 18
        }
      ]
    },
    {
      "cell_type": "code",
      "source": [
        "model.wv.similarity(w1=\"pricey\", w2=\"expensive\")"
      ],
      "metadata": {
        "colab": {
          "base_uri": "https://localhost:8080/"
        },
        "id": "NNydXeUBdM-z",
        "outputId": "4456d7f0-5fd4-4ecf-c1b2-0ecebd356138"
      },
      "execution_count": 17,
      "outputs": [
        {
          "output_type": "execute_result",
          "data": {
            "text/plain": [
              "0.7657304"
            ]
          },
          "metadata": {},
          "execution_count": 17
        }
      ]
    }
  ]
}